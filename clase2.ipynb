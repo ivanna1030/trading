{
 "cells": [
  {
   "cell_type": "markdown",
   "id": "9c240500",
   "metadata": {},
   "source": [
    "# Market Microstructure: Market markers\n",
    "\n",
    "21/08/25"
   ]
  },
  {
   "cell_type": "markdown",
   "id": "c6afb2e3",
   "metadata": {},
   "source": [
    "What is a market maker?\n",
    "\n",
    "- Market makers are liquidity providers that quote prices to buy or sell an asset, while also serving as a dealer, reducing transaction costs and facilitating trades.\n",
    "- They hold large amounts of stocks and are willing to buy/sell at the quoted price, this way they provide liquidity for the retail investors.\n",
    "- Since they facilitate trades with a bid/ask quote, they get to profit from spreads.\n",
    "\n",
    "Types of traders:\n",
    "\n",
    "- Informed traders: They know what the price should be, or have information that others don't, through research (not insider information).\n",
    "- Liquidity traders: Investors, or long-term traders that don't mind paying spreads to buy stocks, ETFs or 401k cashouts.\n",
    "- Noisy traders: They think they have something special, but they don't.\n",
    "\n",
    "Market makers profit:\n",
    "\n",
    "- Informed traders: $-$ profit.\n",
    "- Liquidity traders: $+$ profit.\n",
    "- Noisy traders: $+$ profit.\n",
    "\n",
    "Publicly available information:\n",
    "\n",
    "- Reports (earning calls, inflation rates, bonds, etc).\n",
    "- New articles.\n",
    "- Journals."
   ]
  },
  {
   "cell_type": "markdown",
   "id": "8e78f99f",
   "metadata": {},
   "source": [
    "## Effective spread\n",
    "\n",
    "Introduction:\n",
    "\n",
    "- The field of market microstructure deals with the costs of providing transaction services and with the impact of such costs on the short run behavior of securities prices.\n",
    "- Costs are reflected in the bid-ask spread (and related measures) and commissions.\n",
    "\n",
    "Spread:\n",
    "\n",
    "- The spread can be measured as the difference between Bid and Ask prices.\n",
    "- How would you explain the existence of a spread in a efficient market.\n",
    "\n",
    "Calculating the spread:\n",
    "\n",
    "- If we define the spread as: $S=P_A-P_B$. But this can be hard to calculate, since there is not always a quoted bid/ask.\n",
    "\n",
    "Effective spread:\n",
    "\n",
    "- Richard Roll proposes a simple way to measure the effective bid-ask spread by just using historical data.\n",
    "- However, this requires two main assumptions:\n",
    "    - The asset is traded in an informationally efficient market.\n",
    "    - The probability of distribution of observer price changes is stationary (at least for short intervals of, say, two months)."
   ]
  }
 ],
 "metadata": {
  "language_info": {
   "name": "python"
  }
 },
 "nbformat": 4,
 "nbformat_minor": 5
}
