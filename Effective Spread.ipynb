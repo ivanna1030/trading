{
 "cells": [
  {
   "cell_type": "markdown",
   "id": "2d5eb3b9",
   "metadata": {},
   "source": [
    "Ivanna Herrera Ibarra 744614\n",
    "\n",
    "28/08/25\n",
    "\n",
    "# Effective Spread"
   ]
  },
  {
   "cell_type": "code",
   "execution_count": null,
   "id": "b7a3d093",
   "metadata": {},
   "outputs": [],
   "source": [
    "import pandas as pd\n",
    "import numpy as np"
   ]
  },
  {
   "cell_type": "code",
   "execution_count": null,
   "id": "ac7b1865",
   "metadata": {},
   "outputs": [],
   "source": []
  }
 ],
 "metadata": {
  "kernelspec": {
   "display_name": "base",
   "language": "python",
   "name": "python3"
  },
  "language_info": {
   "name": "python",
   "version": "3.12.7"
  }
 },
 "nbformat": 4,
 "nbformat_minor": 5
}
