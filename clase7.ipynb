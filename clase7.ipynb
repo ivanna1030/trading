{
 "cells": [
  {
   "cell_type": "markdown",
   "id": "9fe3b329",
   "metadata": {},
   "source": [
    "# Machine Learning: Solution\n",
    "\n",
    "07/10/25"
   ]
  },
  {
   "cell_type": "markdown",
   "id": "0f1d2314",
   "metadata": {},
   "source": [
    "Introduction:\n",
    "\n",
    "- Machine learning can be used as an alternative or complementary approach to traditional technical analysis in trading.\n",
    "\n",
    "- ML algorithms have the ability to analyze large volumes of historical data, identify patterns, and make predictions based on the identified patterns.\n",
    "\n",
    "Use cases:\n",
    "\n",
    "- Pattern recognition: trained to identify complex patterns and relationships in historical price data, i.e. identifying specific chart patterns, candlestick patterns, or other technical indicators that have historically led to profitable trading opportunities.\n",
    "\n",
    "- Prediction of price movements: predict future price movements based on historical data and various features such as volume, volatility, or other market variables, providing insights into potential trends, directionality, and price targets.\n",
    "\n",
    "- Sentiment analysis: analyze and interpret market sentiment by processing large amounts of text data from news articles, social media posts, and financial reports, to identify potential market reactions to news events.\n",
    "\n",
    "- Risk management: assist in risk management by analyzing historical data to determine optimal position sizing, portfolio allocation, and risk exposure.\n",
    "\n",
    "- Algorithmic trading: power algorithmic trading systems by automatically generating and executing trading signals based on predefined rules and models.\n",
    "\n",
    "These systems can monitor real-time market data, identify trading opportunities, and execute trades with minimal human intervention.\n",
    "\n",
    "Price prediction:\n",
    "\n",
    "- There are two main approaches to model price movements with Machine Learning:\n",
    "\n",
    "    - Continuous prices: Can be useful for strategies focused on precise entry and exit points, such as scalping or high-frequency trading. It allows for fine-grained decision-making and potential profit from small price movements.\n",
    "\n",
    "    - Discrete prices: Involves categorizing price movements into predefined classes, such as up, down, or sideways. This approach is often used in trend-following or classification-based strategies.\n",
    "\n",
    "Suggestions.\n",
    "\n",
    "- The choice between continuous or discrete prediction can also depend on the availability and reliability of data. If the data is noisy or lacks sufficient granularity, discrete prediction might be more practical.\n",
    "\n",
    "- On the other hand, if high-quality and fine-grained data is available, continuous price prediction might yield more precise results.\n",
    "\n",
    "Complexity:\n",
    "\n",
    "- It's worth noting that predicting continuous prices may require more sophisticated modeling techniques, as the prediction task becomes inherently more challenging.\n",
    "\n",
    "- It often involves time series analysis, regression models, or advanced deep learning architectures, while predicting discrete values may utilize classification algorithms or simpler models."
   ]
  },
  {
   "cell_type": "markdown",
   "id": "97147551",
   "metadata": {},
   "source": [
    "# SVM Trading: Convex Optimization"
   ]
  },
  {
   "cell_type": "markdown",
   "id": "6e036a12",
   "metadata": {},
   "source": [
    "Enhancing TA with machine learning:\n",
    "\n",
    "- There are two main ways we can generate trading signals using ML:\n",
    "\n",
    "- Predict the future price (continuous).\n",
    "\n",
    "- Predict the future trend (discrete).\n",
    "\n",
    "Objective:\n",
    "\n",
    "- Evaluate the effectiveness of SVM in forecasting price trends for high-frequency trading (HFT) using various technical indicators.\n",
    "\n",
    "- Investigate the impact of different SVM kernel functions on the accuracy and generalization capability of price trend forecasting models.\n",
    "\n",
    "- Analyze the robustness and stability of the SVM model across different market conditions and asset classes.\n",
    "\n",
    "Generating our independent variables:\n",
    "\n",
    "- We'll use some technical indicators and hope they have predictive power.\n",
    "\n",
    "    - Kaufman's Adaptive Moving Average (KAMA)\n",
    "\n",
    "    - Relative Strength Index (RSI)\n",
    "\n",
    "    - Stochastic Oscillator\n",
    "\n",
    "    - Williams %R\n",
    "\n",
    "    - Average True Range (ATR)\n",
    "\n",
    "    - Bollinger Bands\n",
    "\n",
    "    - Donchian Channel\n",
    "\n",
    "    - Keltner Channels\n",
    "\n",
    "    - Average Directional Movement Index (ADX)\n",
    "\n",
    "    - Commodity Channel Index (CCI)\n",
    "\n",
    "    - Moving Average Convergence Divergence (MACD)\n",
    "\n",
    "    - Schaff Trend Cycle (STC)\n",
    "\n",
    "Now our Y:\n",
    "\n",
    "- Given some technical indicators, our target variable is defined as:\n",
    "\n",
    "    - 1: if the price in the next 10 periods is greater than today's (P. < Pio).\n",
    "    - -1: otherwise."
   ]
  },
  {
   "cell_type": "markdown",
   "id": "a157e72d",
   "metadata": {},
   "source": [
    "# Logistic Regression"
   ]
  },
  {
   "cell_type": "markdown",
   "id": "5b2d8d11",
   "metadata": {},
   "source": [
    "Logistic Regression:\n",
    "\n",
    "- Logistic regression is a classification model for solving problems where the desired output has only 2 classes.\n",
    "\n",
    "- The logistic regression is considered a linear model with respect to the parameters, although the decision boundary can be nonlinear.\n",
    "\n",
    "- The decision frontier is constructed as a mixture of the input variables.\n",
    "\n",
    "Neural Networks:\n",
    "\n",
    "- An artificial neural network is a highly nonlinear and very versatile model that is commonly used to solve regression or classification problems.\n",
    "\n",
    "- An artificial neural network is a mathematical abstraction inspired by the knowledge of the functioning of a biological neural network, which is made up of multiple neural cells that receive signals and react to generate a response signal.\n",
    "\n",
    "- A biological neural network can be understood as the interaction of multiple neural cells working together to solve a complex problem.\n",
    "\n",
    "- To understand the operation and potential of a neural network, it is necessary to know the operation of the basic processing unit that makes up the network; this basic unit is commonly known as a neuron.\n",
    "\n",
    "- For simplicity, hereinafter we refer to an artificial neural network as simply a neural network."
   ]
  }
 ],
 "metadata": {
  "language_info": {
   "name": "python"
  }
 },
 "nbformat": 4,
 "nbformat_minor": 5
}
