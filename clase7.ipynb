{
 "cells": [
  {
   "cell_type": "markdown",
   "id": "9fe3b329",
   "metadata": {},
   "source": [
    "# Machine Learning: Solution\n",
    "\n",
    "07/10/25"
   ]
  },
  {
   "cell_type": "code",
   "execution_count": null,
   "id": "0f1d2314",
   "metadata": {
    "vscode": {
     "languageId": "plaintext"
    }
   },
   "outputs": [],
   "source": []
  }
 ],
 "metadata": {
  "language_info": {
   "name": "python"
  }
 },
 "nbformat": 4,
 "nbformat_minor": 5
}
