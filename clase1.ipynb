{
 "cells": [
  {
   "cell_type": "markdown",
   "id": "86ece866",
   "metadata": {},
   "source": [
    "# Microestructura de mercados\n",
    "19/08/25"
   ]
  },
  {
   "cell_type": "markdown",
   "id": "0c31ca7b",
   "metadata": {},
   "source": [
    "Market Process:\n",
    "\n",
    "- Investor who wishes to trade immediately does so by placing a market order to trade at the best available price.\n",
    "- Bid and ask prices are established by suppliers of immediacy.\n",
    "- Depending on the market design, suppliers of immediacy may be profesional dealers that quote bid and ask prices or investors.\n",
    "\n",
    "Types of markets:\n",
    "\n",
    "- **For information:** Supply and demand information.\n",
    "- **Securities:** Determination of prices.\n",
    "- **Transaction services:** Costs and bid ask spreads.\n",
    "\n",
    "Elements:\n",
    "\n",
    "- **Investors:** Individual and institutional.\n",
    "- **Brokers:** Upstairs and downstairs brokers.\n",
    "- **Market facility.**"
   ]
  }
 ],
 "metadata": {
  "language_info": {
   "name": "python"
  }
 },
 "nbformat": 4,
 "nbformat_minor": 5
}
