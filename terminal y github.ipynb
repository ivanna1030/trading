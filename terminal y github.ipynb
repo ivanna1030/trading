{
 "cells": [
  {
   "cell_type": "markdown",
   "id": "5f0d42fd",
   "metadata": {},
   "source": [
    "# Comandos terminal"
   ]
  },
  {
   "cell_type": "markdown",
   "id": "672937db",
   "metadata": {},
   "source": [
    "\\$ pwd -> ruta en donde estás. (\\$ ~)\n",
    "\n",
    "\\$ ls -> te dice lo que tienes. (-a muestra todos los archivos)\n",
    "\n",
    "\\$ cd -> cambiarte de directorio. (cd \\<name>) (cd .. -> dos atrás)\n",
    "\n",
    "\\$ rm -rf -> borrar un archivo.\n",
    "\n",
    "\\$ cat -> te imprime el contenido de un archivo. (cat \\<file>)\n",
    "\n",
    "\\$ mkdir -> crear directorio. (mkdir \\<name>)\n",
    "\n",
    "\\$ touch -> crea un archivo vacío. (touch \\<filename>)\n",
    "\n",
    "\\$ python -> corre el archivo.\n",
    "\n",
    "- ($ python main.py)\n",
    "\n",
    "- ($ pip install numpy pandas matplotlib)\n",
    "\n",
    "- ($ pip install -r requirements.txt)\n",
    "\n",
    "- ($ python -m venv .venv)\n",
    "\n",
    "- ($ source .venv/bin/activate)\n",
    "\n",
    "\\$ git -> "
   ]
  },
  {
   "cell_type": "markdown",
   "id": "2332ab23",
   "metadata": {},
   "source": [
    "# Repositorios proyectos Github"
   ]
  },
  {
   "cell_type": "markdown",
   "id": "4780b545",
   "metadata": {},
   "source": [
    "add .gitignore -> python"
   ]
  },
  {
   "cell_type": "markdown",
   "id": "214a1712",
   "metadata": {},
   "source": [
    "# Estilo código"
   ]
  },
  {
   "cell_type": "markdown",
   "id": "4c266251",
   "metadata": {},
   "source": [
    "pep 8 python"
   ]
  }
 ],
 "metadata": {
  "language_info": {
   "name": "python"
  }
 },
 "nbformat": 4,
 "nbformat_minor": 5
}
