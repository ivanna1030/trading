{
 "cells": [
  {
   "cell_type": "markdown",
   "id": "7aaba946",
   "metadata": {},
   "source": [
    "# Generalized linear models (GLMs)\n",
    "\n",
    "25/09/25"
   ]
  },
  {
   "cell_type": "markdown",
   "id": "4ff67c01",
   "metadata": {},
   "source": [
    "Propiedades:\n",
    "\n",
    "1. $y \\sim$ exponential:\n",
    "\n",
    "    - $f(x_i; \\theta, \\phi)=exp(\\frac{x_i \\theta - b(\\theta)}{a(\\gamma)}+c(x_i,\\phi))$\n",
    "\n",
    "2. Linear component:\n",
    "\n",
    "    - $\\eta=xw=\\theta$\n",
    "\n",
    "3. Link function:\n",
    "\n",
    "    - $g^{-1}()=E[y|x,w]$"
   ]
  }
 ],
 "metadata": {
  "language_info": {
   "name": "python"
  }
 },
 "nbformat": 4,
 "nbformat_minor": 5
}
